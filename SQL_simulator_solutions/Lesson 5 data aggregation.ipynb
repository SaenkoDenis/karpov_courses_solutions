{
 "cells": [
  {
   "cell_type": "markdown",
   "id": "44c52e4e-6eba-4c76-ba13-ab673514c2c9",
   "metadata": {},
   "source": [
    "# Lesson 5 data aggregation"
   ]
  },
  {
   "cell_type": "markdown",
   "id": "8b039972-64ce-400c-9fb9-1eef0432a11e",
   "metadata": {},
   "source": [
    "## Задача 1\n",
    "---\n",
    "\n",
    "Для начала решим простую задачу: выведите id всех уникальных пользователей из таблицы `user_actions`. Результат отсортируйте по возрастанию id.\n",
    "\n",
    "Поле в результирующей таблице: `user_id`\n",
    "\n",
    "```sql\n",
    "SELECT DISTINCT user_id from user_actions ORDER BY user_id;\n",
    "```\n"
   ]
  }
 ],
 "metadata": {
  "kernelspec": {
   "display_name": "Python 3 (ipykernel)",
   "language": "python",
   "name": "python3"
  },
  "language_info": {
   "codemirror_mode": {
    "name": "ipython",
    "version": 3
   },
   "file_extension": ".py",
   "mimetype": "text/x-python",
   "name": "python",
   "nbconvert_exporter": "python",
   "pygments_lexer": "ipython3",
   "version": "3.8.15"
  }
 },
 "nbformat": 4,
 "nbformat_minor": 5
}
