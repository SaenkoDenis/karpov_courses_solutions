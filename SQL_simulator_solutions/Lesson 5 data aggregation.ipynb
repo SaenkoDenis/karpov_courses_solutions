{
 "cells": [
  {
   "cell_type": "markdown",
   "id": "44c52e4e-6eba-4c76-ba13-ab673514c2c9",
   "metadata": {},
   "source": [
    "# Lesson 5 data aggregation"
   ]
  },
  {
   "cell_type": "markdown",
   "id": "8b039972-64ce-400c-9fb9-1eef0432a11e",
   "metadata": {},
   "source": [
    "## Задача 1\n",
    "---\n",
    "\n",
    "Для начала решим простую задачу: выведите id всех уникальных пользователей из таблицы `user_actions`. Результат отсортируйте по возрастанию id.\n",
    "\n",
    "Поле в результирующей таблице: `user_id`\n",
    "\n",
    "```sql\n",
    "SELECT DISTINCT user_id from user_actions ORDER BY user_id;\n",
    "```\n"
   ]
  },
  {
   "cell_type": "markdown",
   "id": "078285b7-e5c9-4d2a-80c7-f28111b01d89",
   "metadata": {},
   "source": [
    "## Задача 2\n",
    "---\n",
    "Задание:\n",
    "\n",
    "Примените DISTINCT сразу к двум колонкам таблицы courier_actions и отберите уникальные пары значений courier_id и order_id. Результат отсортируйте по двум колонкам по возрастанию сначала id курьера, затем id заказа.\n",
    "\n",
    "Поля в результирующей таблице: courier_id, order_id\n",
    "\n",
    "```sql\n",
    "select DISTINCT courier_id, order_id from courier_actions ORDER BY courier_id, order_id;\n",
    "```"
   ]
  },
  {
   "cell_type": "markdown",
   "id": "13074f28-ef9f-4718-8df9-6687aae8e157",
   "metadata": {},
   "source": [
    "Задание:\n",
    "---\n",
    "\n",
    "Посчитайте максимальную и минимальную цены товаров в таблице products. Поля назовите соответственно max_price, min_price.\n",
    "\n",
    "Поля в результирующей таблице: max_price, min_price\n",
    "\n",
    "Запрос\n",
    "\n",
    "```sql\n",
    "select max(price) as max_price, min(price) as min_price from products;\n",
    "```"
   ]
  }
 ],
 "metadata": {
  "kernelspec": {
   "display_name": "Python 3 (ipykernel)",
   "language": "python",
   "name": "python3"
  },
  "language_info": {
   "codemirror_mode": {
    "name": "ipython",
    "version": 3
   },
   "file_extension": ".py",
   "mimetype": "text/x-python",
   "name": "python",
   "nbconvert_exporter": "python",
   "pygments_lexer": "ipython3",
   "version": "3.8.15"
  }
 },
 "nbformat": 4,
 "nbformat_minor": 5
}
