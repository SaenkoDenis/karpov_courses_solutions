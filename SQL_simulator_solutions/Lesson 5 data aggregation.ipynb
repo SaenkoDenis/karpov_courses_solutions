{
 "cells": [
  {
   "cell_type": "markdown",
   "id": "44c52e4e-6eba-4c76-ba13-ab673514c2c9",
   "metadata": {},
   "source": [
    "# Lesson 5 data aggregation"
   ]
  },
  {
   "cell_type": "markdown",
   "id": "8b039972-64ce-400c-9fb9-1eef0432a11e",
   "metadata": {},
   "source": [
    "## Задача 1\n",
    "---\n",
    "\n",
    "Для начала решим простую задачу: выведите id всех уникальных пользователей из таблицы `user_actions`. Результат отсортируйте по возрастанию id.\n",
    "\n",
    "Поле в результирующей таблице: `user_id`\n",
    "\n",
    "```sql\n",
    "SELECT DISTINCT user_id from user_actions ORDER BY user_id;\n",
    "```\n"
   ]
  },
  {
   "cell_type": "markdown",
   "id": "078285b7-e5c9-4d2a-80c7-f28111b01d89",
   "metadata": {},
   "source": [
    "## Задача 2\n",
    "---\n",
    "Задание:\n",
    "\n",
    "Примените DISTINCT сразу к двум колонкам таблицы courier_actions и отберите уникальные пары значений courier_id и order_id. Результат отсортируйте по двум колонкам по возрастанию сначала id курьера, затем id заказа.\n",
    "\n",
    "Поля в результирующей таблице: courier_id, order_id\n",
    "\n",
    "```sql\n",
    "select DISTINCT courier_id, order_id from courier_actions ORDER BY courier_id, order_id;\n",
    "```"
   ]
  },
  {
   "cell_type": "markdown",
   "id": "13074f28-ef9f-4718-8df9-6687aae8e157",
   "metadata": {},
   "source": [
    "## Задача 3\n",
    "---\n",
    "\n",
    "Задание:\n",
    "\n",
    "Посчитайте максимальную и минимальную цены товаров в таблице products. Поля назовите соответственно max_price, min_price.\n",
    "\n",
    "Поля в результирующей таблице: max_price, min_price\n",
    "\n",
    "Запрос\n",
    "\n",
    "```sql\n",
    "select max(price) as max_price, min(price) as min_price from products;\n",
    "```"
   ]
  },
  {
   "cell_type": "markdown",
   "id": "a3afd0d9-db56-47df-85d8-2ffb2da655c1",
   "metadata": {},
   "source": [
    "## Задача 4\n",
    "---\n",
    "Задание:\n",
    "\n",
    "С помощью COUNT(DISTINCT) посчитайте количество уникальных пользователей сервиса, количество уникальных заказов, поделите одно на другое и рассчитайте, сколько заказов приходится на одного пользователя. Показатель числа заказов на пользователя округлите до двух знаков после запятой при помощи функции ROUND, которую мы рассматривали в этой задаче.\n",
    "\n",
    "В результирующей таблице отобразите все три значения — поля назовите соответственно unique_users, unique_orders, orders_per_user. Все расчёты проведите на основе таблицы user_actions.\n",
    "\n",
    "Поля в результирующей таблице: unique_users, unique_orders, orders_per_user\n",
    "\n",
    "```sql\n",
    "select count(DISTINCT user_id) as unique_users, \n",
    "count(DISTINCT order_id) as unique_orders,\n",
    "round(count(DISTINCT order_id) / count(DISTINCT user_id)::DECIMAL, 2) as orders_per_user\n",
    "from user_actions\n",
    "```"
   ]
  },
  {
   "cell_type": "markdown",
   "id": "2187e942-0a1d-4289-b45d-fe968d3895ef",
   "metadata": {},
   "source": [
    "## Задача 5\n",
    "---\n",
    "\n",
    "Задание:\n",
    "\n",
    "Посчитайте количество курьеров женского пола в таблице couriers. Полученный столбец назовите couriers_count.\n",
    "\n",
    "Поле в результирующей таблице: couriers_count\n",
    "\n",
    "```sql\n",
    "select count(distinct courier_id) as couriers_count from couriers where sex='female';\n",
    "```"
   ]
  },
  {
   "cell_type": "markdown",
   "id": "4063d2d0-496c-49c9-8584-43b6ee41f651",
   "metadata": {},
   "source": [
    "## Задача 6\n",
    "\n",
    "---\n",
    "Задание\n",
    "\n",
    "Посчитайте количество заказов в таблице orders с девятью и более товарами. Для этого воспользуйтесь функцией array_length, отфильтруйте данные по количеству товаров в заказе и проведите агрегацию. Полученный столбец назовите orders_count.\n",
    "\n",
    "Поле в результирующей таблице: orders_count\n",
    "\n",
    "Пояснение:\n",
    "\n",
    "В наших данных в колонке product_ids содержатся обычные списки товаров всего с одной размерностью.\n",
    "\n",
    "```sql\n",
    "select count(order_id) as orders_count \n",
    "from orders \n",
    "where array_length(product_ids, 1) >= 9;\n",
    "```"
   ]
  },
  {
   "cell_type": "markdown",
   "id": "23191f8b-fee1-4f37-b0ce-4e691aa4bd1b",
   "metadata": {},
   "source": [
    "## Задача 7\n",
    "---\n",
    "Задание:\n",
    "\n",
    "Рассчитайте среднюю цену товаров в таблице products, в названиях которых присутствуют слова «чай» и «кофе». Любым известным способом исключите из расчёта «иван-чай» и «чайный гриб». Среднюю цену округлите до двух знаков после запятой. Столбец с полученным значением назовите avg_price.\n",
    "\n",
    "Поле в результирующей таблице: avg_price\n",
    "\n",
    "Пояснение:\n",
    "\n",
    "Помните, что порядком выполнения логических выражений можно управлять с помощью скобок. Это может пригодиться.\n",
    "\n",
    "Запрос\n",
    "\n",
    "```sql\n",
    "select round(AVG(price), 2) as avg_price from products \n",
    "where \n",
    "name not like '%иван%' and \n",
    "name not like '%гриб' and \n",
    "name like '%чай%' or \n",
    "name like '%кофе%';\n",
    "```"
   ]
  },
  {
   "cell_type": "markdown",
   "id": "28db377d-5d0d-47d1-9a56-26c35b459a4b",
   "metadata": {},
   "source": [
    "## Задача 8\n",
    "---\n",
    "\n",
    "Задание:\n",
    "\n",
    "С помощью функции AGE() и агрегирующей функции рассчитайте возраст самого молодого курьера мужского пола в таблице couriers. Возраст измерьте количеством лет, месяцев и дней (как в примере) и переведите его в тип VARCHAR. В качестве даты, относительно которой считать возраст, используйте свою текущую дату (либо не указывайте её вовсе, как показано в примерах). Полученную колонку со значением возраста назовите min_age.\n",
    "\n",
    "Поле в результирующей таблице: min_age\n",
    "\n",
    "Запрос\n",
    "\n",
    "```sql\n",
    "select min(AGE(current_date, birth_date))::VARCHAR as min_age \n",
    "from couriers where sex='male';\n",
    "```"
   ]
  },
  {
   "cell_type": "markdown",
   "id": "d6c1596b-79ea-46b0-825f-0420a178613d",
   "metadata": {},
   "source": [
    "## Задача 9\n",
    "\n",
    "---\n",
    "Задание:\n",
    "\n",
    "Снова воспользуйтесь функцией AGE() и рассчитайте разницу в возрасте между самым старым и самым молодым пользователями мужского пола в таблице users. Изменять тип данных колонки с результатом не нужно. Колонку с посчитанным значением назовите age_diff.\n",
    "\n",
    "Полученная разница должна выглядеть следующим образом:\n",
    "\n",
    "8350 days, 0:00:00\n",
    "\n",
    "\n",
    "Поле в результирующей таблице: age_diff\n",
    "\n",
    "Пояснение:\n",
    "\n",
    "Эту задачу можно решить разными способами: можно просто найти разницу между датами рождения самого молодого и самого старого пользователей, а можно посчитать разницу между их возрастами. Можете пойти любым способом.\n",
    "\n",
    "Если будете считать возраст, то в качестве текущей даты используйте свою текущую дату.\n",
    "\n",
    "Запрос\n",
    "\n",
    "```sql\n",
    "select AGE(max(birth_date), min(birth_date)) as age_diff \n",
    "from users where sex='male';\n",
    "```\n"
   ]
  },
  {
   "cell_type": "markdown",
   "id": "bb93ca2e-e8ed-4568-8c44-f4513a831188",
   "metadata": {},
   "source": [
    "## Задача 10\n",
    "---\n",
    "\n",
    "Задание:\n",
    "\n",
    "Давайте представим, что один из молодых пользователей сервиса сделал заказ, в который вошли сухарики, чипсы и энергетический напиток. Посчитайте стоимость такого заказа. Колонку с рассчитанной стоимостью заказа назовите order_price.\n",
    "\n",
    "Поле в результирующей таблице: order_price\n",
    "\n",
    "Запрос\n",
    "\n",
    "```sql\n",
    "select sum(price) as order_price \n",
    "from products \n",
    "where name='сухарики' or name='чипсы' or name='энергетический напиток';\n",
    "```"
   ]
  },
  {
   "cell_type": "markdown",
   "id": "8904ed32-e8a6-462f-bccb-4fafd1aa15ac",
   "metadata": {},
   "source": [
    "## Задача 11\n",
    "---\n",
    "Задание:\n",
    "\n",
    "Посчитайте стоимость заказа, в котором будут три пачки сухариков, две пачки чипсов и один энергетический напиток. Колонку с рассчитанной стоимостью заказа назовите order_price.\n",
    "\n",
    "Поле в результирующей таблице: order_price\n",
    "\n",
    "Пояснение:\n",
    "\n",
    "Для решения задачи вам снова может пригодиться конструкция CASE.\n",
    "\n",
    "Запрос\n",
    "\n",
    "```sql\n",
    "select sum(CASE\n",
    "when name='сухарики' then price * 3\n",
    "when name='чипсы' then price * 2\n",
    "when name='энергетический напиток' then price * 1\n",
    "else 0\n",
    "end) as order_price from products where name='сухарики' or name='чипсы' or name='энергетический напиток';\n",
    "```"
   ]
  },
  {
   "cell_type": "markdown",
   "id": "ab442de3-4a47-4d99-8729-a6d8f31f330c",
   "metadata": {},
   "source": [
    "## Задача 12\n",
    "---"
   ]
  }
 ],
 "metadata": {
  "kernelspec": {
   "display_name": "Python 3 (ipykernel)",
   "language": "python",
   "name": "python3"
  },
  "language_info": {
   "codemirror_mode": {
    "name": "ipython",
    "version": 3
   },
   "file_extension": ".py",
   "mimetype": "text/x-python",
   "name": "python",
   "nbconvert_exporter": "python",
   "pygments_lexer": "ipython3",
   "version": "3.8.15"
  }
 },
 "nbformat": 4,
 "nbformat_minor": 5
}
