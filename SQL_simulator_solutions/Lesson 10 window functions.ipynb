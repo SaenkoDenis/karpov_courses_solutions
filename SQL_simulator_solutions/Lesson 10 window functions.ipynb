{
 "cells": [
  {
   "cell_type": "markdown",
   "id": "b278f83f-a6ff-474f-85e3-abf8239207d0",
   "metadata": {},
   "source": [
    "# Lesson 10 Window functions"
   ]
  },
  {
   "cell_type": "markdown",
   "id": "5e628601-149b-4123-a346-4790a1801258",
   "metadata": {},
   "source": [
    "## Задача 8\n",
    "---\n",
    "Задание:\n",
    "\n",
    "Сначала на основе таблицы orders сформируйте новую таблицу с общим числом заказов по дням. Вы уже делали это в одной из предыдущих задач. При подсчёте числа заказов не учитывайте отменённые заказы (их можно определить по таблице user_actions). Колонку с числом заказов назовите orders_count.\n",
    "\n",
    "Затем поместите полученную таблицу в подзапрос и примените к ней оконную функцию в паре с агрегирующей функцией AVG для расчёта скользящего среднего числа заказов. Скользящее среднее для каждой записи считайте по трём предыдущим дням. Подумайте, как правильно задать границы рамки, чтобы получить корректные расчёты.\n",
    "\n",
    "Полученные значения скользящего среднего округлите до двух знаков после запятой. Колонку с рассчитанным показателем назовите moving_avg. Сортировку результирующей таблицы делать не нужно.\n",
    "\n",
    "Поля в результирующей таблице: date, orders_count, moving_avg\n",
    "\n",
    "Пояснение:\n",
    "\n",
    "При решении задачи можете пробовать разные границы рамки и проверять себя вручную. Важно для каждой даты учесть в расчётах именно 3 предыдущих дня.\n",
    "\n",
    "Заполнять пропущенные значения в этой задаче не нужно. Подумайте, почему они могли появиться.\n",
    "\n",
    "Запрос\n",
    "\n",
    "```sql\n",
    "SELECT date, \n",
    "orders_count, \n",
    "round(AVG(orders_count) OVER (ORDER BY date \n",
    "                           ROWS BETWEEN 3 PRECEDING AND 1 PRECEDING), 2) AS moving_avg\n",
    "FROM\n",
    "(SELECT date,\n",
    "       orders_count,\n",
    "       sum(orders_count) OVER(ORDER BY date) as orders_cum_count\n",
    "FROM   (SELECT creation_time::date as date,\n",
    "               count(order_id) as orders_count\n",
    "        FROM   orders\n",
    "        WHERE  order_id not in (SELECT order_id\n",
    "                                FROM   user_actions\n",
    "                                WHERE  action = 'cancel_order')\n",
    "        GROUP BY creation_time::date) as foo) as t\n",
    "```"
   ]
  }
 ],
 "metadata": {
  "kernelspec": {
   "display_name": "Python 3 (ipykernel)",
   "language": "python",
   "name": "python3"
  },
  "language_info": {
   "codemirror_mode": {
    "name": "ipython",
    "version": 3
   },
   "file_extension": ".py",
   "mimetype": "text/x-python",
   "name": "python",
   "nbconvert_exporter": "python",
   "pygments_lexer": "ipython3",
   "version": "3.8.15"
  }
 },
 "nbformat": 4,
 "nbformat_minor": 5
}
