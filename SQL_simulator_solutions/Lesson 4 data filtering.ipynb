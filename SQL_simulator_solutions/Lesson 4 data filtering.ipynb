{
 "cells": [
  {
   "cell_type": "markdown",
   "id": "edbc243c-7209-4814-849a-4ecc4df06a3b",
   "metadata": {},
   "source": [
    "# Lesson 4 data filtering"
   ]
  },
  {
   "cell_type": "markdown",
   "id": "58a6b338-f975-4ac4-a8c6-fbb2f66ebdde",
   "metadata": {},
   "source": [
    "## Задача 1.\n",
    "\n",
    "---\n",
    "\n",
    "**Задание:**\n",
    "\n",
    "Напишите SQL-запрос к таблице `products` и выведите всю информацию о товарах, цена которых не превышает 100 рублей. Результат отсортируйте по убыванию цены.\n",
    "\n",
    "Поля в результирующей таблице: `product_id`, `name`, `price`\n",
    "\n",
    "---\n",
    "Запрос\n",
    "\n",
    "```sql\n",
    "select\n",
    "  product_id,\n",
    "  name,\n",
    "  price\n",
    "from\n",
    "  products\n",
    "where\n",
    "  price <= 100\n",
    "order by\n",
    "  price desc;\n",
    "```"
   ]
  },
  {
   "cell_type": "markdown",
   "id": "7e1884f5-a408-49c8-93f4-048fc46c4d39",
   "metadata": {},
   "source": [
    "## Задача 2.\n",
    "\n",
    "---\n",
    "**Задание:**\n",
    "\n",
    "В таблице `products` найдите все товары, содержащие в своём названии последовательность символов «чай» (без кавычек). Выведите две колонки: id продукта и его название.\n",
    "\n",
    "Поля в результирующей таблице: `product_id`, `name`\n",
    "\n",
    "```sql\n",
    "select\n",
    "  product_id,\n",
    "  name\n",
    "from\n",
    "  products\n",
    "WHERE\n",
    "  name LIKE '%чай%';\n",
    "```"
   ]
  },
  {
   "cell_type": "markdown",
   "id": "4a6fb084-b3d4-41cc-bb73-0d0ae30ff789",
   "metadata": {},
   "source": [
    "## Задача 3.\n",
    "\n",
    "---\n",
    "\n",
    "**Задание:**\n",
    "\n",
    "Выберите из таблицы `products` id и наименования только тех товаров, названия которых начинаются на букву «с» и содержат только одно слово.\n",
    "\n",
    "Поля в результирующей таблице: `product_id`, `name`\n",
    "\n",
    "```sql\n",
    "select\n",
    "  product_id,\n",
    "  name\n",
    "from\n",
    "  products\n",
    "where\n",
    "  name LIKE 'с%_'\n",
    "  and name NOT LIKE '% %';\n",
    "```"
   ]
  },
  {
   "cell_type": "markdown",
   "id": "da6347e0-10d5-4cbc-b23f-227eb0ef57db",
   "metadata": {},
   "source": [
    "## Задача 4.\n",
    "\n",
    "---\n",
    "\n",
    "Задание:\n",
    "\n",
    "Составьте SQL-запрос, который выбирает из таблицы products все чаи стоимостью больше 60 рублей и вычисляет для них цену со скидкой в 25%. Скидку в % необходимо указать в отдельном столбце в формате текста, то есть вот так: «25%» (без кавычек). Столбцы со скидкой и новой ценой назовите соответственно discount и price_discounted.\n",
    "\n",
    "Также необходимо любым известным способом избавиться от «чайного гриба»: вряд ли менеджер имел в виду и его, когда ставил нам задачу.\n",
    "\n",
    "Поля в результирующей таблице: product_id, name, price, discount, price_discounted\n",
    "\n",
    "```sql\n",
    "SELECT\n",
    "  product_id,\n",
    "  name,\n",
    "  price,\n",
    "  '25%' as discount,\n",
    "  (price / 100 * (100 -25)) as price_discounted\n",
    "from\n",
    "  products\n",
    "where\n",
    "  name LIKE 'чай%'\n",
    "  and name NOT LIKE '% гр%'\n",
    "  and price > 60;\n",
    "```"
   ]
  },
  {
   "cell_type": "markdown",
   "id": "3021f450-3e3e-439f-8aa4-ced5ffa33094",
   "metadata": {},
   "source": [
    "## Задача 5\n",
    "---\n",
    "Задание:\n",
    "\n",
    "Из таблицы user_actions выведите всю информацию о действиях пользователей с id 170, 200 и 230 за период с 25 августа по 4 сентября 2022 года включительно. Результат отсортируйте по времени совершения действия — от самых поздних действий к самым первым.\n",
    "\n",
    "Поля в результирующей таблице: user_id, order_id, action, time\n",
    "\n",
    "```sql\n",
    "select\n",
    "  user_id,\n",
    "  order_id,\n",
    "  action,\n",
    "  time\n",
    "from\n",
    "  user_actions\n",
    "where\n",
    "  user_id in (170, 200, 230)\n",
    "  and time BETWEEN '2022-08-25' and '2022-09-04  23:59:59+00000'\n",
    "order by\n",
    "  time DESC;\n",
    "```"
   ]
  },
  {
   "cell_type": "markdown",
   "id": "a2068cc3-59e7-460b-adcd-3b9bded497c9",
   "metadata": {},
   "source": [
    "## Задача 6\n",
    "---\n",
    "\n",
    "Задание:\n",
    "\n",
    "Напишите SQL-запрос к таблице couriers и выведите всю информацию о курьерах, у которых не указан их день рождения. Результат отсортируйте по возрастанию id.\n",
    "\n",
    "Поля в результирующей таблице: birth_date, courier_id, sex\n",
    "\n",
    "Запрос\n",
    "\n",
    "```sql\n",
    "select\n",
    "  courier_id,\n",
    "  birth_date,\n",
    "  sex\n",
    "from\n",
    "  couriers\n",
    "where\n",
    "  birth_date is null\n",
    "order by\n",
    "  courier_id asc;\n",
    "```"
   ]
  }
 ],
 "metadata": {
  "kernelspec": {
   "display_name": "Python 3 (ipykernel)",
   "language": "python",
   "name": "python3"
  },
  "language_info": {
   "codemirror_mode": {
    "name": "ipython",
    "version": 3
   },
   "file_extension": ".py",
   "mimetype": "text/x-python",
   "name": "python",
   "nbconvert_exporter": "python",
   "pygments_lexer": "ipython3",
   "version": "3.8.15"
  }
 },
 "nbformat": 4,
 "nbformat_minor": 5
}
