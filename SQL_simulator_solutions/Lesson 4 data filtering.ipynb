{
 "cells": [
  {
   "cell_type": "markdown",
   "id": "edbc243c-7209-4814-849a-4ecc4df06a3b",
   "metadata": {},
   "source": [
    "# Lesson 4 data filtering"
   ]
  },
  {
   "cell_type": "markdown",
   "id": "58a6b338-f975-4ac4-a8c6-fbb2f66ebdde",
   "metadata": {},
   "source": [
    "## Задача 1.\n",
    "\n",
    "---\n",
    "\n",
    "**Задание:**\n",
    "\n",
    "Напишите SQL-запрос к таблице `products` и выведите всю информацию о товарах, цена которых не превышает 100 рублей. Результат отсортируйте по убыванию цены.\n",
    "\n",
    "Поля в результирующей таблице: `product_id`, `name`, `price`\n",
    "\n",
    "---\n",
    "Запрос\n",
    "\n",
    "```sql\n",
    "select\n",
    "  product_id,\n",
    "  name,\n",
    "  price\n",
    "from\n",
    "  products\n",
    "where\n",
    "  price <= 100\n",
    "order by\n",
    "  price desc;\n",
    "```"
   ]
  },
  {
   "cell_type": "markdown",
   "id": "7e1884f5-a408-49c8-93f4-048fc46c4d39",
   "metadata": {},
   "source": [
    "## Задача 2.\n",
    "\n",
    "---\n",
    "**Задание:**\n",
    "\n",
    "В таблице `products` найдите все товары, содержащие в своём названии последовательность символов «чай» (без кавычек). Выведите две колонки: id продукта и его название.\n",
    "\n",
    "Поля в результирующей таблице: `product_id`, `name`\n",
    "\n",
    "```sql\n",
    "select\n",
    "  product_id,\n",
    "  name\n",
    "from\n",
    "  products\n",
    "WHERE\n",
    "  name LIKE '%чай%';\n",
    "```"
   ]
  }
 ],
 "metadata": {
  "kernelspec": {
   "display_name": "Python 3 (ipykernel)",
   "language": "python",
   "name": "python3"
  },
  "language_info": {
   "codemirror_mode": {
    "name": "ipython",
    "version": 3
   },
   "file_extension": ".py",
   "mimetype": "text/x-python",
   "name": "python",
   "nbconvert_exporter": "python",
   "pygments_lexer": "ipython3",
   "version": "3.8.15"
  }
 },
 "nbformat": 4,
 "nbformat_minor": 5
}
